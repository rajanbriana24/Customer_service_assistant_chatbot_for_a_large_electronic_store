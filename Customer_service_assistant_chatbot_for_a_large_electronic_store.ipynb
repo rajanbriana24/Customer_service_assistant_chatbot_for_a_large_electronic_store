{
  "nbformat": 4,
  "nbformat_minor": 0,
  "metadata": {
    "colab": {
      "provenance": [],
      "authorship_tag": "ABX9TyNyeiqnH0lLgxGoVCXmnbZ5"
    },
    "kernelspec": {
      "name": "python3",
      "display_name": "Python 3"
    },
    "language_info": {
      "name": "python"
    }
  },
  "cells": [
    {
      "cell_type": "code",
      "source": [
        "import os\n",
        "import openai\n",
        "import sys\n",
        "sys.path.append('../..')\n",
        "import utils\n",
        "\n",
        "import panel as pn  # GUI\n",
        "pn.extension()\n",
        "\n",
        "from dotenv import load_dotenv, find_dotenv\n",
        "_ = load_dotenv(find_dotenv()) # read local .env file\n",
        "\n",
        "openai.api_key  = os.environ['OPENAI_API_KEY']"
      ],
      "metadata": {
        "id": "hlCoN-Fk9Q2Z"
      },
      "execution_count": null,
      "outputs": []
    },
    {
      "cell_type": "code",
      "source": [
        "def get_completion_from_messages(messages, model=\"gpt-3.5-turbo\", temperature=0, max_tokens=500):\n",
        "    response = openai.ChatCompletion.create(\n",
        "        model=model,\n",
        "        messages=messages,\n",
        "        temperature=temperature,\n",
        "        max_tokens=max_tokens,\n",
        "    )\n",
        "    return response.choices[0].message[\"content\"]"
      ],
      "metadata": {
        "id": "9lfZqHG89Scd"
      },
      "execution_count": null,
      "outputs": []
    },
    {
      "cell_type": "markdown",
      "source": [
        "Chain of Thought Reasoning\n"
      ],
      "metadata": {
        "id": "umDP8Pgk86LA"
      }
    },
    {
      "cell_type": "code",
      "source": [
        "def process_user_message(user_input, all_messages, debug=True):\n",
        "    delimiter = \"```\"\n",
        "\n",
        "    # Step 1: Check input to see if it flags the Moderation API or is a prompt injection\n",
        "    response = openai.Moderation.create(input=user_input)\n",
        "    moderation_output = response[\"results\"][0]\n",
        "\n",
        "    if moderation_output[\"flagged\"]:\n",
        "        print(\"Step 1: Input flagged by Moderation API.\")\n",
        "        return \"Sorry, we cannot process this request.\"\n",
        "\n",
        "    if debug: print(\"Step 1: Input passed moderation check.\")\n",
        "\n",
        "    category_and_product_response = utils.find_category_and_product_only(user_input, utils.get_products_and_category())\n",
        "    #print(print(category_and_product_response)\n",
        "    # Step 2: Extract the list of products\n",
        "    category_and_product_list = utils.read_string_to_list(category_and_product_response)\n",
        "    #print(category_and_product_list)\n",
        "\n",
        "    if debug: print(\"Step 2: Extracted list of products.\")\n",
        "\n",
        "    # Step 3: If products are found, look them up\n",
        "    product_information = utils.generate_output_string(category_and_product_list)\n",
        "    if debug: print(\"Step 3: Looked up product information.\")\n",
        "\n",
        "    # Step 4: Answer the user question\n",
        "    system_message = f\"\"\"\n",
        "    You are a customer service assistant for a large electronic store. \\\n",
        "    Respond in a friendly and helpful tone, with concise answers. \\\n",
        "    Make sure to ask the user relevant follow-up questions.\n",
        "    \"\"\"\n",
        "    messages = [\n",
        "        {'role': 'system', 'content': system_message},\n",
        "        {'role': 'user', 'content': f\"{delimiter}{user_input}{delimiter}\"},\n",
        "        {'role': 'assistant', 'content': f\"Relevant product information:\\n{product_information}\"}\n",
        "    ]\n",
        "\n",
        "    final_response = get_completion_from_messages(all_messages + messages)\n",
        "    if debug:print(\"Step 4: Generated response to user question.\")\n",
        "    all_messages = all_messages + messages[1:]\n",
        "\n",
        "    # Step 5: Put the answer through the Moderation API\n",
        "    response = openai.Moderation.create(input=final_response)\n",
        "    moderation_output = response[\"results\"][0]\n",
        "\n",
        "    if moderation_output[\"flagged\"]:\n",
        "        if debug: print(\"Step 5: Response flagged by Moderation API.\")\n",
        "        return \"Sorry, we cannot provide this information.\"\n",
        "\n",
        "    if debug: print(\"Step 5: Response passed moderation check.\")\n",
        "\n",
        "    # Step 6: Ask the model if the response answers the initial user query well\n",
        "    user_message = f\"\"\"\n",
        "    Customer message: {delimiter}{user_input}{delimiter}\n",
        "    Agent response: {delimiter}{final_response}{delimiter}\n",
        "\n",
        "    Does the response sufficiently answer the question?\n",
        "    \"\"\"\n",
        "    messages = [\n",
        "        {'role': 'system', 'content': system_message},\n",
        "        {'role': 'user', 'content': user_message}\n",
        "    ]\n",
        "    evaluation_response = get_completion_from_messages(messages)\n",
        "    if debug: print(\"Step 6: Model evaluated the response.\")\n",
        "\n",
        "    # Step 7: If yes, use this answer; if not, say that you will connect the user to a human\n",
        "    if \"Y\" in evaluation_response:  # Using \"in\" instead of \"==\" to be safer for model output variation (e.g., \"Y.\" or \"Yes\")\n",
        "        if debug: print(\"Step 7: Model approved the response.\")\n",
        "        return final_response, all_messages\n",
        "    else:\n",
        "        if debug: print(\"Step 7: Model disapproved the response.\")\n",
        "        neg_str = \"I'm unable to provide the information you're looking for. I'll connect you with a human representative for further assistance.\"\n",
        "        return neg_str, all_messages\n",
        "#Testing with an example\n",
        "user_input = \"tell me about the smartx pro phone and the fotosnap camera, the dslr one. Also what tell me about your tvs\"\n",
        "response,_ = process_user_message(user_input,[])\n",
        "print(response)"
      ],
      "metadata": {
        "id": "Z-2jgnhA9Vm8"
      },
      "execution_count": null,
      "outputs": []
    },
    {
      "cell_type": "markdown",
      "source": [
        "For displaying the chatbot\n"
      ],
      "metadata": {
        "id": "kyODD_Vy8tSD"
      }
    },
    {
      "cell_type": "code",
      "source": [
        "def collect_messages(debug=False):\n",
        "    user_input = inp.value_input\n",
        "    if debug: print(f\"User Input = {user_input}\")\n",
        "    if user_input == \"\":\n",
        "        return\n",
        "    inp.value = ''\n",
        "    global context\n",
        "    #response, context = process_user_message(user_input, context, utils.get_products_and_category(),debug=True)\n",
        "    response, context = process_user_message(user_input, context, debug=False)\n",
        "    context.append({'role':'assistant', 'content':f\"{response}\"})\n",
        "    panels.append(\n",
        "        pn.Row('User:', pn.pane.Markdown(user_input, width=600)))\n",
        "    panels.append(\n",
        "        pn.Row('Assistant:', pn.pane.Markdown(response, width=600, style={'background-color': '#F6F6F6'})))\n",
        "\n",
        "    return pn.Column(*panels)"
      ],
      "metadata": {
        "id": "uZy02yZO9YGM"
      },
      "execution_count": null,
      "outputs": []
    },
    {
      "cell_type": "code",
      "source": [
        "panels = [] # collect display\n",
        "\n",
        "context = [ {'role':'system', 'content':\"You are Service Assistant\"} ]\n",
        "\n",
        "inp = pn.widgets.TextInput( placeholder='Enter text here…')\n",
        "button_conversation = pn.widgets.Button(name=\"Service Assistant\")\n",
        "\n",
        "interactive_conversation = pn.bind(collect_messages, button_conversation)\n",
        "\n",
        "dashboard = pn.Column(\n",
        "    inp,\n",
        "    pn.Row(button_conversation),\n",
        "    pn.panel(interactive_conversation, loading_indicator=True, height=300),\n",
        ")\n",
        "\n",
        "dashboard"
      ],
      "metadata": {
        "id": "uzdM16_P9axO"
      },
      "execution_count": null,
      "outputs": []
    },
    {
      "cell_type": "markdown",
      "source": [
        "Evaluate the LLM's answer to the user with a rubric, based on the extracted product information"
      ],
      "metadata": {
        "id": "KWPQoxDm8pWr"
      }
    },
    {
      "cell_type": "code",
      "source": [
        "#For evaluating the conversation\n",
        "customer_msg = user_input\n",
        "\n",
        "products_by_category = utils.get_products_from_query(customer_msg)\n",
        "category_and_product_list = utils.read_string_to_list(products_by_category)\n",
        "product_info = utils.get_mentioned_product_info(category_and_product_list)\n",
        "assistant_answer = utils.answer_user_msg(user_msg=customer_msg,\n",
        "                                                   product_info=product_info)"
      ],
      "metadata": {
        "id": "jQIFobME7-uR"
      },
      "execution_count": null,
      "outputs": []
    },
    {
      "cell_type": "code",
      "source": [
        "cust_prod_info = {\n",
        "    'customer_msg': customer_msg,\n",
        "    'context': product_info\n",
        "}"
      ],
      "metadata": {
        "id": "0Otwpgxp8V3u"
      },
      "execution_count": null,
      "outputs": []
    },
    {
      "cell_type": "code",
      "source": [
        "def eval_with_rubric(test_set, assistant_answer):\n",
        "\n",
        "    cust_msg = test_set['customer_msg']\n",
        "    context = test_set['context']\n",
        "    completion = assistant_answer\n",
        "\n",
        "    system_message = \"\"\"\\\n",
        "    You are an assistant that evaluates how well the customer service agent \\\n",
        "    answers a user question by looking at the context that the customer service \\\n",
        "    agent is using to generate its response.\n",
        "    \"\"\"\n",
        "\n",
        "    user_message = f\"\"\"\\\n",
        "You are evaluating a submitted answer to a question based on the context \\\n",
        "that the agent uses to answer the question.\n",
        "Here is the data:\n",
        "    [BEGIN DATA]\n",
        "    ************\n",
        "    [Question]: {cust_msg}\n",
        "    ************\n",
        "    [Context]: {context}\n",
        "    ************\n",
        "    [Submission]: {completion}\n",
        "    ************\n",
        "    [END DATA]\n",
        "\n",
        "Compare the factual content of the submitted answer with the context. \\\n",
        "Ignore any differences in style, grammar, or punctuation.\n",
        "Answer the following questions:\n",
        "    - Is the Assistant response based only on the context provided? (Y or N)\n",
        "    - Does the answer include information that is not provided in the context? (Y or N)\n",
        "    - Is there any disagreement between the response and the context? (Y or N)\n",
        "    - Count how many questions the user asked. (output a number)\n",
        "    - For each question that the user asked, is there a corresponding answer to it?\n",
        "      Question 1: (Y or N)\n",
        "      Question 2: (Y or N)\n",
        "      ...\n",
        "      Question N: (Y or N)\n",
        "    - Of the number of questions asked, how many of these questions were addressed by the answer? (output a number)\n",
        "\"\"\"\n",
        "\n",
        "    messages = [\n",
        "        {'role': 'system', 'content': system_message},\n",
        "        {'role': 'user', 'content': user_message}\n",
        "    ]\n",
        "\n",
        "    response = get_completion_from_messages(messages)\n",
        "    return response"
      ],
      "metadata": {
        "id": "lAuUNeHZ8cSS"
      },
      "execution_count": null,
      "outputs": []
    },
    {
      "cell_type": "code",
      "source": [
        "evaluation_output = eval_with_rubric(cust_prod_info, assistant_answer)\n",
        "print(evaluation_output)"
      ],
      "metadata": {
        "id": "Btvmm1Zw8gDY"
      },
      "execution_count": null,
      "outputs": []
    },
    {
      "cell_type": "markdown",
      "source": [
        "Evaluate the LLM's answer to the user based on an \"ideal\" / \"expert\" (human generated) answer."
      ],
      "metadata": {
        "id": "vV_tO9O29Bq2"
      }
    },
    {
      "cell_type": "code",
      "source": [
        "test_set_ideal = {\n",
        "    'customer_msg': \"\"\"\\\n",
        "tell me about the smartx pro phone and the fotosnap camera, the dslr one.\n",
        "Also, what TVs or TV related products do you have?\"\"\",\n",
        "    'ideal_answer':\"\"\"\\\n",
        "Of course!  The SmartX ProPhone is a powerful \\\n",
        "smartphone with advanced camera features. \\\n",
        "For instance, it has a 12MP dual camera. \\\n",
        "Other features include 5G wireless and 128GB storage. \\\n",
        "It also has a 6.1-inch display.  The price is $899.99.\n",
        "\n",
        "The FotoSnap DSLR Camera is great for \\\n",
        "capturing stunning photos and videos. \\\n",
        "Some features include 1080p video, \\\n",
        "3-inch LCD, a 24.2MP sensor, \\\n",
        "and interchangeable lenses. \\\n",
        "The price is 599.99.\n",
        "\n",
        "For TVs and TV related products, we offer 3 TVs \\\n",
        "\n",
        "\n",
        "All TVs offer HDR and Smart TV.\n",
        "\n",
        "The CineView 4K TV has vibrant colors and smart features. \\\n",
        "Some of these features include a 55-inch display, \\\n",
        "'4K resolution. It's priced at 599.\n",
        "\n",
        "The CineView 8K TV is a stunning 8K TV. \\\n",
        "Some features include a 65-inch display and \\\n",
        "8K resolution.  It's priced at 2999.99\n",
        "\n",
        "The CineView OLED TV lets you experience vibrant colors. \\\n",
        "Some features include a 55-inch display and 4K resolution. \\\n",
        "It's priced at 1499.99.\n",
        "\n",
        "We also offer 2 home theater products, both which include bluetooth.\\\n",
        "The SoundMax Home Theater is a powerful home theater system for \\\n",
        "an immmersive audio experience.\n",
        "Its features include 5.1 channel, 1000W output, and wireless subwoofer.\n",
        "It's priced at 399.99.\n",
        "\n",
        "The SoundMax Soundbar is a sleek and powerful soundbar.\n",
        "It's features include 2.1 channel, 300W output, and wireless subwoofer.\n",
        "It's priced at 199.99\n",
        "\n",
        "Are there any questions additional you may have about these products \\\n",
        "that you mentioned here?\n",
        "Or may do you have other questions I can help you with?\n",
        "    \"\"\"\n",
        "}"
      ],
      "metadata": {
        "id": "lEOAUAUs8iG-"
      },
      "execution_count": null,
      "outputs": []
    },
    {
      "cell_type": "markdown",
      "source": [
        "Check if the LLM's response agrees with or disagrees with the expert answer"
      ],
      "metadata": {
        "id": "Bxs-TMEK9JK4"
      }
    },
    {
      "cell_type": "code",
      "source": [
        "def eval_vs_ideal(test_set, assistant_answer):\n",
        "\n",
        "    cust_msg = test_set['customer_msg']\n",
        "    ideal = test_set['ideal_answer']\n",
        "    completion = assistant_answer\n",
        "\n",
        "    system_message = \"\"\"\\\n",
        "    You are an assistant that evaluates how well the customer service agent \\\n",
        "    answers a user question by comparing the response to the ideal (expert) response\n",
        "    Output a single letter and nothing else.\n",
        "    \"\"\"\n",
        "\n",
        "    user_message = f\"\"\"\\\n",
        "You are comparing a submitted answer to an expert answer on a given question. Here is the data:\n",
        "    [BEGIN DATA]\n",
        "    ************\n",
        "    [Question]: {cust_msg}\n",
        "    ************\n",
        "    [Expert]: {ideal}\n",
        "    ************\n",
        "    [Submission]: {completion}\n",
        "    ************\n",
        "    [END DATA]\n",
        "\n",
        "Compare the factual content of the submitted answer with the expert answer. Ignore any differences in style, grammar, or punctuation.\n",
        "    The submitted answer may either be a subset or superset of the expert answer, or it may conflict with it. Determine which case applies. Answer the question by selecting one of the following options:\n",
        "    (A) The submitted answer is a subset of the expert answer and is fully consistent with it.\n",
        "    (B) The submitted answer is a superset of the expert answer and is fully consistent with it.\n",
        "    (C) The submitted answer contains all the same details as the expert answer.\n",
        "    (D) There is a disagreement between the submitted answer and the expert answer.\n",
        "    (E) The answers differ, but these differences don't matter from the perspective of factuality.\n",
        "  choice_strings: ABCDE\n",
        "\"\"\"\n",
        "\n",
        "    messages = [\n",
        "        {'role': 'system', 'content': system_message},\n",
        "        {'role': 'user', 'content': user_message}\n",
        "    ]\n",
        "\n",
        "    response = get_completion_from_messages(messages)\n",
        "    return response"
      ],
      "metadata": {
        "id": "FKh5qll99FWG"
      },
      "execution_count": null,
      "outputs": []
    },
    {
      "cell_type": "code",
      "source": [
        "print(assistant_answer)"
      ],
      "metadata": {
        "id": "jEY0WZQa9Oa4"
      },
      "execution_count": null,
      "outputs": []
    },
    {
      "cell_type": "code",
      "source": [
        "eval_vs_ideal(test_set_ideal, assistant_answer)"
      ],
      "metadata": {
        "id": "VATk79EP9PLe"
      },
      "execution_count": null,
      "outputs": []
    },
    {
      "cell_type": "code",
      "source": [],
      "metadata": {
        "id": "a3-SyXer9Rg_"
      },
      "execution_count": null,
      "outputs": []
    }
  ]
}